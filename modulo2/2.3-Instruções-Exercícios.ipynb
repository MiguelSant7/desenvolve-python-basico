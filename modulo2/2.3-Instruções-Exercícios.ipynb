{
  "metadata": {
    "kernelspec": {
      "name": "python",
      "display_name": "Python (Pyodide)",
      "language": "python"
    },
    "language_info": {
      "codemirror_mode": {
        "name": "python",
        "version": 3
      },
      "file_extension": ".py",
      "mimetype": "text/x-python",
      "name": "python",
      "nbconvert_exporter": "python",
      "pygments_lexer": "ipython3",
      "version": "3.8"
    },
    "colab": {
      "provenance": []
    }
  },
  "nbformat_minor": 4,
  "nbformat": 4,
  "cells": [
    {
      "cell_type": "markdown",
      "source": "# Módulo 2\n\n## 2.3 Instruções e Expressões\n\n### Q1\n\nFaça um programa que armazene o valor de 20 reais de salário por hora de um trabalhador, e o número de 40 horas trabalhadas na semana. Com essas informações, calcule e imprima:\n- Salário semanal bruto\n- Valor descontado por semana INSS (10% do bruto)\n- Valor descontado por semana pelo sindicato (5% do bruto)\n- Salário semanal líquido (Bruto - Descontos)",
      "metadata": {
        "id": "1pCTdOHonv5f"
      }
    },
    {
      "cell_type": "code",
      "source": "## Escreva e execute seu código aqui\n\n#Dados\nsalario_hora = 20\nhoras_semana = 40\n\n#Salário semanal\nsalario_semanal = salario_hora * horas_semana\n\n#Descontos\ninss      = salario_semanal * 0.10 #INSS(10% do bruto)\nsindicato = salario_semanal * 0.05  #Sindicato(5% do bruto)\ndescontos = inss + sindicato\n\n#Salário líquido\nsalario_liquido = salario_semanal - descontos\n\n#Saída\nprint(f\"O salário semanal bruto é de {salario_semanal}\")\nprint(f\"O valor descontado pelo inss é de {inss}\")\nprint(f\"O valor descontado pelo sindicato é de {sindicato}\")\nprint(f\"O salário semanal líquido é de {salario_liquido}\")\n",
      "metadata": {
        "id": "hVbX0I97nj6M"
      },
      "outputs": [],
      "execution_count": null
    },
    {
      "cell_type": "markdown",
      "source": "### Q2\n\nAltere o programa anterior para a partir dos valores de horas trabalhadas por semana e salário por hora, calcular **em somente duas instruções**:\n- Salário semanal bruto\n- Salário semanal líquido com todos os descontos. Para a segunda instrução, realize todos os cálculos aritméticos em uma expressão composta.\n",
      "metadata": {
        "id": "pIxKX9J2oGZ1"
      }
    },
    {
      "cell_type": "code",
      "source": "## Escreva e execute seu código aqui\nsalario_hora = 20\nhoras_semana = 40\n\n#Salário semanal\nsalario_semanal = salario_hora * horas_semana #1° instrução\n\n#Salário líquido\nsalario_liquido = salario_semanal * (1 - (0.10 + 0.05)) #2° instrução\n\n#Saída\nprint(f\"O salário semanal líquido é de {salario_liquido}\")",
      "metadata": {
        "id": "pAHw9Xf9oGoi"
      },
      "outputs": [],
      "execution_count": null
    },
    {
      "cell_type": "markdown",
      "source": "### Q3\n\nVocê está desenvolvendo um software de conversão de moeda e precisa calcular o valor equivalente em yuan chinês a partir de uma quantia em real. A taxa de câmbio é de 0.69 BRL (real) para 1 CNY (yuan). Escreva um programa que define em uma variável uma quantia em reais (BRL) e calcula o valor equivalente em yuan (CNY). Imprima o resultado.",
      "metadata": {
        "id": "m8tlHRuWpBOB"
      }
    },
    {
      "cell_type": "code",
      "source": "## Escreva e execute seu código aqui\n\ncny      = 1    #moeda chinesa\nmoeda_br = 50   #valor aleatório\ntaxa     = 0.69 #baseada no Real\n\n#conversão\nmoeda_cny = moeda_br / taxa\n\n#Saída\nprint(moeda_cny)",
      "metadata": {
        "id": "2bPw7uF6oeL9"
      },
      "outputs": [],
      "execution_count": null
    },
    {
      "cell_type": "markdown",
      "source": "### Q4\n\nVocê é um treinador de corrida e deseja calcular a velocidade média que um atleta precisa manter para completar a Maratona Internacional de São Silvestre, que tem uma distância total de 42.195 km. A fórmula para calcular a velocidade média ($v\\_media$) é dada por $v\\_media = \\frac{distancia}{tempo}$ . Escreva um programa em Python para calcular a velocidade média necessária para completar a maratona em 3 horas.\n\n**Calcule e imprima o resultado em metros/segundo**, ou seja, converta a distância de quilômetros para metros ($metro = \\frac{km}{1000}$) e a velocidade de horas para segundos $(segundo = \\frac{hora}{3600})$.",
      "metadata": {
        "id": "-Na3ltDCp74A"
      }
    },
    {
      "cell_type": "code",
      "source": "## Escreva e execute seu código aqui\n\n#Dados\ndistancia_km      = 42.195\nhoras_necessarias = 3\n\n#conversão\ndistancia_m          = distancia_km * 1000\nsegundos_necessarios = horas_necessarias *  3600\nv_media = distancia_m / segundos_necessarios\n\n#Saída\nprint(v_media)",
      "metadata": {
        "id": "Bn6l8kcSrE4L"
      },
      "outputs": [],
      "execution_count": null
    }
  ]
}