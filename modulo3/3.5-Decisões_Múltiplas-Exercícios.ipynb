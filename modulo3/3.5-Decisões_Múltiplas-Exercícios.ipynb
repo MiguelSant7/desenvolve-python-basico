{
  "metadata": {
    "kernelspec": {
      "name": "python",
      "display_name": "Python (Pyodide)",
      "language": "python"
    },
    "language_info": {
      "codemirror_mode": {
        "name": "python",
        "version": 3
      },
      "file_extension": ".py",
      "mimetype": "text/x-python",
      "name": "python",
      "nbconvert_exporter": "python",
      "pygments_lexer": "ipython3",
      "version": "3.8"
    }
  },
  "nbformat_minor": 5,
  "nbformat": 4,
  "cells": [
    {
      "id": "559687a1",
      "cell_type": "markdown",
      "source": "# Módulo 3 - Condicionais\n\n## 3.5 - Decisões Múltiplas",
      "metadata": {}
    },
    {
      "id": "42f823b3",
      "cell_type": "markdown",
      "source": "### Q1.\n\nVamos fazer uma calculadora! Escreva um programa que solicita 3 entradas: o primeiro operando (float), o operador (caracter) e o segundo operando (float). Seu programa deve imprimir o resultado da operação solicitada, entre soma (+), subtração (-), divisão (/), multiplicação (\\*) ou potência (\\*\\*). Seu programa também deve imprimir uma mensagem de erro se a operação solicitada não estiver dentre as opções disponíveis.\n\nSeguem alguns exemplos de interação com seu código no terminal. \n\n\n```\nDigite o primeiro operando: 5.2\nDigite o operador (+, -, /, *, **): *\nDigite o segundo operando` 3\nResultado: 5.2 * 3.0 = 15.6\n```\n\n```\nDigite o primeiro operando: 8\nDigite o operador (+, -, /, *, **): **\nDigite o segundo operando: 2\nResultado: 8.0 * 2.0 = 64.0\n```\n\n```\nDigite o primeiro operando: 7\nDigite o operador (+, -, /, *, **): %\nDigite o segundo operando: 3.4\nErro! Operação inválida. \n```\n\n```\nDigite o primeiro operando: 10\nDigite o operador (+, -, /, *, **): /\nDigite o segundo operando: 2.5\nResultado: 10.0 / 2.5 = 4.0\n```\n\n",
      "metadata": {}
    },
    {
      "id": "c5b8cd4d",
      "cell_type": "code",
      "source": "## Escreva e execute seu código aqui\n##Questão1 - Calculadora\n\n#Entrada\noperando_1 = float(input(\"Digite o primeiro operando: \"))\noperador   = input(\"Digite o operador (+, -, /, *, **): \")\noperando_2 = float(input(\"Digite o segundo operando: \"))\n\n\n#Processamento\nif operador == \"+\":\n    resposta = operando_1 + operando_2 \nelif operador == \"-\":\n        resposta = operando_1 - operando_2\nelif operador == \"/\":\n    if operando_2 == 0:\n        print(\"Erro no operando\")\n    else:\n        resposta = operando_1 / operando_2\nelif operador == \"*\":\n    resposta = operando_1 * operando_2\nelse:\n    resposta = operando_1 ** operando_2\n\n#Saída\nprint(f\"A resposta é: {resposta}\")",
      "metadata": {},
      "outputs": [],
      "execution_count": null
    },
    {
      "id": "d135df39",
      "cell_type": "markdown",
      "source": "### Q2.\n\nEscreva um programa que leia os comprimentos dos 3 lados de um triângulo e diga se o triângulo é equilátero, isóceles ou escaleno. Regras:\n- Isóceles: Quaisquer dois lados com o mesmo comprimento\n- Equilátero: Os três lados tem o mesmo comprimento\n- Escaleno: Três lados de comprimento diferente \n\nNote que a ordem das condições importa! Seguem alguns exemplos de interação com seu código no terminal. \n\n```\nDigite o comprimento do lado 1: 4\nDigite o comprimento do lado 2: 4\nDigite o comprimento do lado 3: 6\nTriângulo: Isóceles\n```\n\n```\nDigite o comprimento do lado 1: 5\nDigite o comprimento do lado 2: 5\nDigite o comprimento do lado 3: 5\nTriângulo: Equilátero\n```\n\n```\nDigite o comprimento do lado 1: 7\nDigite o comprimento do lado 2: 4\nDigite o comprimento do lado 3: 9\nTriângulo: Escaleno\n```\n\n",
      "metadata": {}
    },
    {
      "id": "cfcf9a80",
      "cell_type": "code",
      "source": "## Escreva e execute seu código aqui\n##Questão2 - Leitura dos Triângulos\n\n#Isóceles: Quaisquer dois lados com o mesmo comprimento\n#Equilátero: Os três lados tem o mesmo comprimento\n#Escaleno: Três lados de comprimento diferente\n\n#Etrada\nlado_1 = int(input(\"Informe o comprimento do Lado 1: \"))\nlado_2 = int(input(\"Informe o comprimento do Lado 2: \"))\nlado_3 = int(input(\"Informe o comprimento do Lado 3: \"))\n\n\n#Processamento/saída\nif (lado_1 == lado_2 == lado_3):\n    print(\"Equilátero\")\nelif(lado_1 == lado_2) or (lado_2 == lado_3) or (lado_1 == lado_3):\n    print(\"Isóceles\")\nelse:\n    print(\"Escaleno\")",
      "metadata": {},
      "outputs": [],
      "execution_count": null
    },
    {
      "id": "ed3405fb",
      "cell_type": "markdown",
      "source": "### Q3.\n\nVocê está desenvolvendo um sistema de avaliação de desempenho para um jogo. Escreva um programa em Python que avalia a pontuação do jogador em uma missão e atribui uma classificação com base nas seguintes condições:\n\n- Se a pontuação for menor que 70, atribua a classificação \"Insatisfatório\".\n- Se a pontuação for maior ou igual a 70, atribua a classificação \"Regular\".\n- Se a pontuação for maior ou igual a 80, atribua a classificação \"Bom\".\n- Se a pontuação for maior ou igual a 90, atribua a classificação \"Excelente\".\n\nEscreva um programa que solicita ao usuário a pontuação e imprime a classificação correspondente.",
      "metadata": {}
    },
    {
      "id": "a7a842ae",
      "cell_type": "code",
      "source": "## Escreva e execute seu código aqui\n##Questão3 - Pontuação de jogo\n\n#Se a pontuação for menor que 70, atribua a classificação \"Insatisfatório\".\n#Se a pontuação for maior ou igual a 70, atribua a classificação \"Regular\".\n#Se a pontuação for maior ou igual a 80, atribua a classificação \"Bom\".\n#Se a pontuação for maior ou igual a 90, atribua a classificação \"Excelente\".\n\n#Entrada\npontos = int(input(\"Diga a sua pontuação, pequeno gafanhoto: \"))\n\n#Processamento/Saída\nif pontos < 70:\n    print(\"Insatisfatório\")\nelif pontos == 70:\n    print(\"Regular\")\nelif pontos < 80:\n    print(\"Regular\")\nelif pontos < 90:\n    print(\"Bom\")\nelif pontos >= 90:\n    print(\"exelente\")\nelse:\n    print(\"Pontos inválidos\")",
      "metadata": {},
      "outputs": [],
      "execution_count": null
    },
    {
      "id": "6cafaa50",
      "cell_type": "markdown",
      "source": "### Q4.\n\nVocê está implementando um sistema de desconto em uma loja online. Escreva um programa em Python que calcula o desconto com base no valor total da compra e atribui diferentes níveis de desconto de acordo com as seguintes condições:\n\n- Se o valor total da compra for menor que R\\$ 50, não há desconto.\n- Se o valor total da compra for maior ou igual a R\\$ 50, atribua um desconto de 10%.\n- Se o valor total da compra for maior ou igual a R\\$ 100, atribua um desconto de 20%.\n\n\nSeguem alguns exemplos de interação com seu código no terminal. Preste atenção na formatação esperada para as saídas.\n\n```\nDigite o valor total da compra: 120\nDesconto aplicado: 20.0%\nValor final com desconto: R$96.00\n```\n\n```\nDigite o valor total da compra: 65\nDesconto aplicado: 10.0%\nValor final com desconto: R$58.50\n```\n\n```\nDigite o valor total da compra: 40\nDesconto aplicado: 0.0%\nValor final com desconto: R$40.00\n```\n\n\n",
      "metadata": {}
    },
    {
      "id": "3b1b1929",
      "cell_type": "code",
      "source": "## Escreva e execute seu código aqui\n##Questão4 - Desconto em compras\n\n#Se o valor total da compra for menor que R$ 50, não há desconto.\n#Se o valor total da compra for maior ou igual a R$ 50, atribua um desconto de 10%.\n#Se o valor total da compra for maior ou igual a R$ 100, atribua um desconto de 20%.\n\n#Entrada\nvalor_da_compra = float(input(\"Informe o valor da sua compra: \"))\n\n#Processamento/Saída\nif valor_da_compra >= 100:\n    desconto = valor_da_compra * 0.2\n    print(f\"Seu desconto foi de {desconto}. O total da sua compra é: R${valor_da_compra - desconto}\")\nelif valor_da_compra >= 50:\n    desconto = valor_da_compra * 0.1\n    print(f\"Seu desconto foi de {desconto}. O total da sua compra é: R${valor_da_compra - desconto}\")\nelse:\n    print(f\"Você não obteve desconto. O total da compra é: R${valor_da_compra}\")",
      "metadata": {},
      "outputs": [],
      "execution_count": null
    },
    {
      "id": "dc5db6d7",
      "cell_type": "markdown",
      "source": "### Q5.\n\nVocê está projetando um sistema de autenticação baseado na análise da íris (parte colorida do olho). Ao acionado, o sistema coleta e retorna 3 valores inteiros referentes a atributos da íris visível. Mas o sistema não é perfeito, tendo uma margem de erro do sensor de +/- $5$. \n\nO código abaixo tem os atributos dos 4 usuários cadastrados no sistema. Você deve completar om código, pedindo ao usuário para inserir uma nova leitura de padrão de íris. O programa deve comparar o padrão inserido com os padrões cadastrados no banco de dados. Se o padrão estiver dentro da tolerância estabelecida, o usuário é autenticado com sucesso. Caso contrário, a autenticação falha.\n\n**Dica:** A função do python ```abs()``` retorna o valor absoluto de um elemento. Ex: \n```\n>>> print(abs(987-982))\n5\n>>> print(abs(987-992))\n5\n```\n\nSeguem alguns exemplos de interação com seu código no terminal.\n\n```\nInsira o padrão de íris para autenticação.\nAtributo 1: 111\nAtributo 2: 222\nAtributo 3: 333\nAutenticação bem-sucedida! \nUsuário: 3\n```\n\n```\nInsira o padrão de íris para autenticação.\nAtributo 1: 111\nAtributo 2: 200\nAtributo 3: 333\nAutenticação falhou! \n```\n\n```\nInsira o padrão de íris para autenticação.\nAtributo 1: 982\nAtributo 2: 653\nAtributo 3: 324\nAutenticação bem-sucedida! \nUsuário: 2\n```",
      "metadata": {}
    },
    {
      "id": "b90304eb",
      "cell_type": "code",
      "source": "## Não altere os atributos definidos a seguir\niris1_a1, iris1_a2, iris1_a3 = 123, 456, 789\niris2_a1, iris2_a2, iris2_a3 = 987, 654, 321\niris3_a1, iris3_a2, iris3_a3 = 111, 222, 333\niris4_a1, iris4_a2, iris4_a3 = 444, 555, 666\n\n## Escreva e execute seu código aqui\n##Questão5 - Confirmação de íris\n\n#Entrada\nprint(\"Insira o padrão de íris para autenticação.\")\natributo_1 = int(input(\"Atributo 1: \"))\natributo_2 = int(input(\"Atributo 2: \"))\natributo_3 = int(input(\"Atributo 3: \"))\n\ntolerancia = 5\n\nautenticado = False\n\n#Processamento\nif iris1_a1 - tolerancia <= atributo_1 <= iris1_a1 + tolerancia and \\\n   iris1_a2 - tolerancia <= atributo_2 <= iris1_a2 + tolerancia and \\\n   iris1_a3 - tolerancia <= atributo_3 <= iris1_a3 + tolerancia:\n    autenticado = True\n    usuario_autenticado = 1\n\nif iris2_a1 - tolerancia <= atributo_1 <= iris2_a1 + tolerancia and \\\n   iris2_a2 - tolerancia <= atributo_2 <= iris2_a2 + tolerancia and \\\n   iris2_a3 - tolerancia <= atributo_3 <= iris2_a3 + tolerancia:\n    autenticado = True\n    usuario_autenticado = 2\n\nif iris3_a1 - tolerancia <= atributo_1 <= iris3_a1 + tolerancia and \\\n   iris3_a2 - tolerancia <= atributo_2 <= iris3_a2 + tolerancia and \\\n   iris3_a3 - tolerancia <= atributo_3 <= iris3_a3 + tolerancia:\n    autenticado = True\n    usuario_autenticado = 3\n\nif iris4_a1 - tolerancia <= atributo_1 <= iris4_a1 + tolerancia and \\\n   iris4_a2 - tolerancia <= atributo_2 <= iris4_a2 + tolerancia and \\\n   iris4_a3 - tolerancia <= atributo_3 <= iris4_a3 + tolerancia:\n    autenticado = True\n    usuario_autenticado = 4\n\n#Saída\nif autenticado:\n    print(\"Autenticação bem-sucedida!\")\n    print(\"Usuário:\", usuario_autenticado)\nelse:\n    print(\"Autenticação falhou!\")",
      "metadata": {},
      "outputs": [],
      "execution_count": 1
    }
  ]
}