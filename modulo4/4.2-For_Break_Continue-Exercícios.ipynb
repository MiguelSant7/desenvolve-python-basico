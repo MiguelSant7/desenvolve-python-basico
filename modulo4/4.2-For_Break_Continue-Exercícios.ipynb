{
  "metadata": {
    "kernelspec": {
      "name": "python",
      "display_name": "Python (Pyodide)",
      "language": "python"
    },
    "language_info": {
      "codemirror_mode": {
        "name": "python",
        "version": 3
      },
      "file_extension": ".py",
      "mimetype": "text/x-python",
      "name": "python",
      "nbconvert_exporter": "python",
      "pygments_lexer": "ipython3",
      "version": "3.8"
    }
  },
  "nbformat_minor": 5,
  "nbformat": 4,
  "cells": [
    {
      "id": "29e89030",
      "cell_type": "markdown",
      "source": "# Módulo 4 - Repetições\n\n## Aulas 4.2 - Comando ```for``` e 4.3 Break e Continue",
      "metadata": {}
    },
    {
      "id": "a45b42df",
      "cell_type": "markdown",
      "source": "### Q1.\n\nCrie um programa em Python que utilize o comando for para imprimir os números de 10 a 1, em ordem decrescente.",
      "metadata": {}
    },
    {
      "id": "55a75b3d",
      "cell_type": "code",
      "source": "## Escreva e execute seu código aqui\n##Questa01 - 10 a 1, ordem decrescente\n\n#Estrutura de repetição\nfor i in range(10, 0, -1): #10 a 0(1), subtraindo 1 a cada \"giro\"\n    print(i)",
      "metadata": {},
      "outputs": [],
      "execution_count": null
    },
    {
      "id": "94b47c36",
      "cell_type": "markdown",
      "source": "### Q2.\n\nDado um número inteiro positivo informado pelo usuário, crie um programa em Python que utilize o comando for para calcular e exibir a soma dos números de 1 até o número informado. Ou seja, $1 + 2 + 3 + ... + n$\n\nExemplo de interação:\n```\nDigite um número: 5\nA soma dos números de 1 a 5 é 15\n```\n",
      "metadata": {}
    },
    {
      "id": "45b71596",
      "cell_type": "code",
      "source": "## Escreva e execute seu código aqui\n##Questao2 - Soma dos números\n\n#Entrada\nn    = int(input(\"Informe o número: \"))\nsoma = 0 \n\n\n#Processamento/Saída\nfor i in range(1, n, 1):\n    soma += i\nprint(f\"A soma de 1 a {n} é: {soma+n}\")",
      "metadata": {},
      "outputs": [],
      "execution_count": null
    },
    {
      "id": "0411d170",
      "cell_type": "markdown",
      "source": "### Q3.\n\nEscreva um programa que lê 10 valores inteiros positivos do usuário e ao final imprime a média dos valores digitados com duas casas decimais.\n\n```\nDigite 10 números positivos:\n3\n2\n12\n14\n20\n42\n19\n0\n8\n1\nA média dos valores digitados é 12.10\n```",
      "metadata": {}
    },
    {
      "id": "3f72f358",
      "cell_type": "code",
      "source": "## Escreva e execute seu código aqui\n##Questao3 - Média e casas decimais\n\n#Entrada\nn = int(input(\"Informe quantos números deseja achar a média: \"))\n\n#Processamento\nsoma = 0\nmedia = 0\nfor i in range(n):\n    valor = int(input(\"Informe o valor: \"))\n    soma += valor\n    media = soma / n\n\n#Saída\nprint(f\"A média dos valores é: {media:,.2f}\")",
      "metadata": {},
      "outputs": [],
      "execution_count": null
    },
    {
      "id": "d62e27ff",
      "cell_type": "markdown",
      "source": "### Q4.\n\nVocê vai criar um sistema que registra os resultados dos jogos do Atlético MG ao longo de um campeonato. Seu sistema vai receber os resultados de todos os jogos do Galo, e deve calcular a pontuação do time sabendo que vitórias valem 3 pontos, empates 1 ponto e derrotas 0 pontos.\n\nEntrada: <br>\nA primeira linha de entrada é um inteiro N com a quantidade jogos do galo. Para cada jogo você deve ler 2 inteiros, o primeiro com a quantidade de gols do galo e o segundo com a quantidade de gols do time oponente. \n\nSaída: <br>\nApresente a soma de vitórias, empates e derrotas do galo, junto com o cálculo da pontuação total.\n\nEx:\n```\nEntrada:\n4\n2\n0\n1\n1\n0\n3\n1\n0\n\nSaída:\nVitórias: 2\nEmpates: 1\nDerrotas: 1\nPontuação: 7\n\n```\n\n\n",
      "metadata": {}
    },
    {
      "id": "d3fdfc2a",
      "cell_type": "code",
      "source": "## Escreva e execute seu código aqui\n##Questão4 - Jogos Galo x Cruzeiro\n\n#Vitórias valem 3 pontos, empates valem 1 ponto e derrotas 0 pontos\n#Para cada jogo deve ler 2 inteiros, cada um com a quantidade de gols de cada time\n\n#Entrada\nquantidade_jogos = int(input(\"Informe a quantidade de jogos: \"))\nvitorias_galo    = 0 # Contadores |\nderrotas         = 0 #            |\nempates          = 0 #            |  \npontuacao        = 0 # ------- <- | \n\n#Processamento\nfor i in range (quantidade_jogos):\n    #Partidas\n    jogos_galo     = int(input(\"Informe a quantidade de gols do Galo: \"))\n    jogos_cruzeiro = int(input(\"Informe a quantidade de gols do Cruzeiro: \"))\n    #Vitórias = 3 pts, Empates = 1 pts, Derrota = 0 pts\n    if jogos_galo  > jogos_cruzeiro:\n        vitorias_galo += 1\n        pontuacao += 3\n    elif jogos_galo == jogos_cruzeiro:\n        empates += 1\n        pontuacao +=1\n    else:\n        derrotas += 1\n\n#Saída\nprint(f\"Vitórias: {vitorias_galo}\")\nprint(f\"Empates: {empates}\")\nprint(f\"Derrotas: {derrotas}\")\nprint(f\"Pontuação: {pontuacao}\")",
      "metadata": {},
      "outputs": [],
      "execution_count": null
    },
    {
      "id": "fc98604d",
      "cell_type": "markdown",
      "source": "### Q5.\n\nFaça um programa que lê dois inteiros N e M, e imprime na tela um campo de batalha naval. O tabuleiro deve possuir N linhas e M colunas. A primeira linha é composta por um espaço em branco e o cabeçalho das colunas, ou seja, valores de 1 a M. As N linhas seguintes iniciam com o cabeçalho da linha, ou seja, seu número, seguido de M caracteres \"/\" (barra) indicando uma possível posição jogável. \n\n```\nEntrada:\n5\n4\n\nSaída:\n  1 2 3 4 \n1 / / / / \n2 / / / / \n3 / / / / \n4 / / / / \n5 / / / / \n```\n\nPara esse exercício, precisamos lembrar que o comando print implicitamente adiciona uma quebra de linha ao final da impressão. Podemos interferir no final da impressão adicionando mais uma entrada ao print. No exemplo, finalizamos cada linha com um espaço em branco:\n```python\nprint(\"Texto qualquer\", end = \" \")\n```",
      "metadata": {}
    },
    {
      "id": "a60ef197",
      "cell_type": "code",
      "source": "## Escreva e execute seu código aqui\n##Questao5 - Campo de batalha\n\n#Entrada\nn = int(input(\"Informe um número: \"))\nm = int(input(\"Informe outro número: \"))\n\n#Processamento/Saída\nprint(\" \", end=\" \")\nfor j in range(1, m + 1):\n    print(j, end=\" \")\nprint()\n\nfor i in range(1, n + 1):\n    print(i, end=\" \")\n    for j in range(m):\n        print(\"/\", end=\" \")\n    print()",
      "metadata": {},
      "outputs": [],
      "execution_count": null
    },
    {
      "id": "4654dc0b",
      "cell_type": "markdown",
      "source": "---\n## Break e Continue",
      "metadata": {}
    },
    {
      "id": "24fe9d85",
      "cell_type": "markdown",
      "source": "### Q6.\n\nEscreva um programa que lê uma quantidade indefinida de valores e informa o maior e o menor valor digitados. A leitura é encerrada quando o usuário digitar o valor 0 (zero).\n\n```\nEntrada:\n12\n-1\n29\n11\n-5\n0\n\nSaída:\nMaior: 29\nMenor: -5\n```",
      "metadata": {}
    },
    {
      "id": "ee1c466a",
      "cell_type": "code",
      "source": "## Escreva e execute seu código aqui\n##Questao6 - Maior e menor valor\n\n#Entrada\nmaior = 1\nmenor = 1\n\n#Processamento\nwhile True:\n    n = int(input(\"Informe um valor inteiro: \"))\n    if n == 0:\n        break\n    elif n > maior:\n        maior = n\n    elif n < menor:\n        menor = n\n    \n#Saída\nprint(f\"O maior valor é: {maior}\")\nprint(f\"O menor valor é: {menor}\")",
      "metadata": {},
      "outputs": [],
      "execution_count": null
    },
    {
      "id": "a3869305-0a91-4f61-8547-1a718bd77407",
      "cell_type": "code",
      "source": "",
      "metadata": {
        "trusted": true
      },
      "outputs": [],
      "execution_count": null
    },
    {
      "id": "30d486f7",
      "cell_type": "markdown",
      "source": "### Q7.\n\nEscreva um programa que lê uma quantidade indefinida de valores e informa o **produto** dos valores positivos digitados. A leitura é encerrada quando o usuário digitar o valor 0 (zero).\n\n```\nEntrada:\n2\n-1\n1\n3\n-5\n0\n\nSaída:\nProduto: 6\n```",
      "metadata": {}
    },
    {
      "id": "2f1ac324",
      "cell_type": "code",
      "source": "## Escreva e execute seu código aqui\n##Questao7 - Positivos indefinidos\n\n#Entrada\nproduto_negativo = 0 \nproduto_positivo = 0\n\n#Processamento\nwhile True:\n    n = int(input(\"Informe um valor: \"))\n    if n == 0:\n        break\n    elif n > 0:\n        produto_positivo += n\n    else:\n        produto_negativo += n\n\n#Saída\nprint(f\"Produtos: {produto_positivo}\")",
      "metadata": {},
      "outputs": [],
      "execution_count": null
    },
    {
      "id": "e932f3cf",
      "cell_type": "markdown",
      "source": "### Q8.\n\nVamos fazer uma calculadora que aceita expressões aritméticas de qualquer tamanho até que o usuário digite a palavra \"Fim\". Sua calculadora executa apenas as operações \"+\", \"-\".\n\n```\nEntrada:\n5\n+\n8\n-\n3\n+\n2\nFim\n\nSaída:\n12\n```",
      "metadata": {}
    },
    {
      "id": "e835d870",
      "cell_type": "code",
      "source": "## Escreva e execute seu código aqui\n##Questao8 - Calculando \"+\" e \"-\"\n\n#Entrada\nresposta = 0\noperador = 0\n\n#Processamento\nwhile True:\n    operando1 = input(\"Digite o operando: \")\n    if operando1 == \"Fim\":\n        break\n    operador  = input(\"Digite o operando(+ ou -): \")\n    if operador == \"Fim\":\n        break\n    operando2 = input(\"Digite o operando: \")\n    if operando2 == \"Fim\":\n        break\n\n    '''if operando1 == \"Fim\" or operador == \"Fim\" or operando2 == \"Fim\":\n        break'''\n    operando1 = int(operando1)\n    operando2 = int(operando2)\n\n    if operador == \"+\":\n        resposta = operando1 + operando2\n    elif operador == \"-\":\n        resposta = operando1 - operando2\n\n#Saída\nprint(f\"resposta: {resposta}\")",
      "metadata": {},
      "outputs": [],
      "execution_count": null
    }
  ]
}