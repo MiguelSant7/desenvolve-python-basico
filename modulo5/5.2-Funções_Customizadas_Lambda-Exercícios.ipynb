{
  "metadata": {
    "kernelspec": {
      "name": "python",
      "display_name": "Python (Pyodide)",
      "language": "python"
    },
    "language_info": {
      "codemirror_mode": {
        "name": "python",
        "version": 3
      },
      "file_extension": ".py",
      "mimetype": "text/x-python",
      "name": "python",
      "nbconvert_exporter": "python",
      "pygments_lexer": "ipython3",
      "version": "3.8"
    }
  },
  "nbformat_minor": 5,
  "nbformat": 4,
  "cells": [
    {
      "id": "cbdff5a5",
      "cell_type": "markdown",
      "source": "# Módulo 5 - Funções\n\n## Aulas 5.2 - Funções Customizadas e 5.4 Funções ```lambda```",
      "metadata": {}
    },
    {
      "id": "28a3fee2",
      "cell_type": "markdown",
      "source": "### Q1.\n\n- Sabendo que o código a seguir calcula o fatorial de n, escreva uma função chamada ```fatorial()``` que recebe um inteiro ```n``` como parâmetro e retorna o resultado do fatorial de ```n```. \n- No programa principal, peça ao usuário o valor de ```n```, chame a sua função e imprima o retorno.\n\n```python\nfat = 1\nfor i in range(1, n+1):\n    fat *= i \n```",
      "metadata": {}
    },
    {
      "id": "d126b3a5",
      "cell_type": "code",
      "source": "## Crie aqui a função fatorial()\n## lembre-se de executar a célula para que \n## a função passe a existir e possa ser chamada\n#Questao1 - Fatorial\n\n#Função do fatorial\ndef fatorial(n):\n    fat = 1\n    for i in range(1, n+1):\n        fat *= i \n    return fat",
      "metadata": {},
      "outputs": [],
      "execution_count": null
    },
    {
      "id": "6e4fe64e",
      "cell_type": "code",
      "source": "## Escreva aqui o programa principal e execute a célula\n#Entrada\nn         = int(input(\"Número: \"))\nfatorial1 = fatorial(n)\n\n#Saída\nprint(f\"O fatorial de {n} é {fatorial1}\")",
      "metadata": {},
      "outputs": [],
      "execution_count": null
    },
    {
      "id": "c0a1f599",
      "cell_type": "markdown",
      "source": "### Q2.\n\n- Escreva uma função em Python chamada ```soma_quadrados``` que recebe dois números como parâmetros e retorna a soma dos seus quadrados. \n- No programa principal solicite ao usuário que insira dois números e utilize a função para exibir a soma dos quadrados.",
      "metadata": {}
    },
    {
      "id": "6dbddaad",
      "cell_type": "code",
      "source": "## Crie aqui a função soma_quadrados()\ndef soma_quadrados (n1, n2):\n    soma = n1 * 2 +  n2 * 2\n    return soma",
      "metadata": {},
      "outputs": [],
      "execution_count": null
    },
    {
      "id": "9175a7da",
      "cell_type": "code",
      "source": "## Escreva aqui o programa principal e execute a célula\n#Entrada\nprint(\"___Vamos calcular a soma dos quadrados do primeiro e segundo número___\")\nn1 = float(input(\"Informe o primeiro número: \"))\nn2 = float(input(\"Informe o segundo número: \"))\n\nquadrado = soma_quadrados(n1, n2) #Definindo a função na variável\n\n#Saída\nprint(f\"O a soma dos quadrados de {n1} e {n2} é: {quadrado}\")",
      "metadata": {},
      "outputs": [],
      "execution_count": null
    },
    {
      "id": "6ba34ce0",
      "cell_type": "markdown",
      "source": "### Q3.\n\n- Crie uma função em Python chamada ```soma_digitos``` que recebe um número inteiro como parâmetro e retorna a soma dos seus dígitos. Por exemplo, para o número 123, a função deve retornar 6, $(1 + 2 + 3)$.\n    - O desafio aqui é separar os dígitos de um número inteiro usando operações aritméticas <br> <br>\n\n- No programa principal solicite ao usuário que insira um número e utilize a função ```soma_digitos``` para calcular e exibir a soma dos seus dígitos.",
      "metadata": {}
    },
    {
      "id": "34838ebf",
      "cell_type": "code",
      "source": "## Crie aqui a função soma_digitos()\n###Questão3 - Soma de dígitos\n\n#Função da soma dos dígitos\ndef soma_digitos(n_int):\n    soma = 0\n    for digito in str(n_int): #Transforma os parâmetros em strings(para cada digito da string de número inteiro)\n        soma += int(digito)   #Adiciona na soma o valor de cada dígito\n    return soma",
      "metadata": {},
      "outputs": [],
      "execution_count": null
    },
    {
      "id": "27c35b21",
      "cell_type": "code",
      "source": "## Escreva aqui o programa principal e execute a célula\n#Entrada\nprint(\"___Informe um número e direi a soma de seus dígitos___\")\nn_int = int(input(\"Digite o número: \"))\nsoma_final = soma_digitos(n_int) #\"Processamento\"\n\n#Saída\nprint(f\"A soma dos díigitos de {n_int} é: {soma_final}\")",
      "metadata": {},
      "outputs": [],
      "execution_count": null
    },
    {
      "id": "c318b159",
      "cell_type": "markdown",
      "source": "### Q4.\n\n- Crie a função ```inverteValor()``` que recebe um inteiro de qualquer tamanho e retorna esse valor invertido usando apenas operações aritméticas\n- Crie a função ```verificaInverso()``` que recebe o valor original e o valor invertido e retorna verdadeiro se ambos forem igualmente par ou igualmente ímpar. Retorne falso caso contrário.\n- No programa principal, peça um valor do usuário e imprima o retorno de ambas as funções.\n",
      "metadata": {}
    },
    {
      "id": "e4e47d1d",
      "cell_type": "code",
      "source": "## Crie aqui as funções inverteValor() e verificaInverso()\n###Questao4    - inventendo valores\n\n#Função para inverter  valor\ndef inverte_valor(inteiro):\n    invertido = 0\n    while inteiro != 0:\n        digito = inteiro % 10\n        invertido = invertido * 10 + digito\n        inteiro //= 10\n\n    return invertido\n\n\n#Função para verificar o valor invertido\ndef verifica_inverso(n_original, invertido):\n    if n_original and invertido % 2 == 0:\n        return True\n    else:\n        return False",
      "metadata": {},
      "outputs": [],
      "execution_count": null
    },
    {
      "id": "a9514e56",
      "cell_type": "code",
      "source": "## Escreva aqui o programa principal e execute a célula\n#Entrada\nprint(\"___Informe um valor e irei inverte-lo informando se par ou impar (True = Par, False = Ímpar)___\")\ninteiro = int(input(\"Digite um valor: \"))\n\n#Processamento\nvalor_invertido = inverte_valor(inteiro)\nverificando_inverso = verifica_inverso(inteiro, valor_invertido)\n\n#Saída\nprint(f\"O valor invertido é {valor_invertido} e ele é: {verificando_inverso}\")",
      "metadata": {},
      "outputs": [],
      "execution_count": null
    },
    {
      "id": "329be966",
      "cell_type": "markdown",
      "source": "### Q5.\n\nVocê está desenvolvendo um programa para auxiliar em cálculos de geometria básica. Crie as seguintes funções:\n- A função ```calcula_perimetro_triangulo()``` que recebe três inteiros correspondentes aos lados de um triângulo e retorna o perímetro do triângulo, ou seja, a soma dos seus lados.\n- A função ```calcula_perimetro_circulo()``` que recebe um inteiro referente ao raio do círculo e retorna o perímetro do círculo, dado por $2 \\pi r$. Use a constante $\\pi$ da biblioteca ```math```.\n- A função ```calcula_perimetro_retangulo()``` que possui um parâmetro obrigatório ```lado1``` e um opcional ```lado2```, ambos inteiros. Se o valor opcional não for fornecido, significa que se trata de um quadrado. Sua função deve calcular e retornar o perímetro do retângulo, ou seja, a soma de seus lados. \n    - Para o quadrado, é dado por $4 \\times lado1$\n    - Para o retângulo é dado por $2 \\times lado1 + 2 \\times lado2$\n    \n- No programa principal apresente um menu com as opções disponíveis do seu sistema e uma quarta opção ```Sair```. Solicite ao usuário a opção desejada, solicite as entradas correspondentes à opção escolhida, invoque a respective função e apresente o seu retorno. Seu programa deve retornar ao menu até que o usuário escolha a opção ```Sair```\n\nExemplo de interação:\n```\n1 - Calcular perímetro triângulo\n2 - Calcular perímetro círculo\n3 - Calcular perímetro retângulo\n4 - Sair\n\nOpção: 1\nDigite os três lados do triângulo:\n3\n4\n5\nO perímetro é: 12\n\n1 - Calcular perímetro triângulo\n2 - Calcular perímetro círculo\n3 - Calcular perímetro retângulo\n4 - Sair\n\nOpção: 3\nInforme os dois lados do retângulo. Se for um quadrado, digite 0 para o segundo valor:\n5\n0\nO perímetro é: 20\n\n1 - Calcular perímetro triângulo\n2 - Calcular perímetro círculo\n3 - Calcular perímetro retângulo\n4 - Sair\n\nOpção: 4\n```",
      "metadata": {}
    },
    {
      "id": "0793d328",
      "cell_type": "code",
      "source": "## Crie aqui as funções \n###Questao5 - Geometria\n\n#Importações (pi)\nimport math\n\n#Função para calcular perímetro do triângulo\ndef calcula_perimetro_triangulo(ladoT_1, LadoT_2, LadoT3):\n    soma = ladoT_1 + LadoT_2 + LadoT3\n\n    return soma\n\n#Função para caclular o perímetro do circulo\ndef calcula_perimetro_circulo(raio):\n    perimetro = math.pi * raio * 2\n\n    return perimetro\n\n#Função para calcular o perímetro do retângulo\ndef calcula_perimetro_retangulo(ladoR_1, LadoR_2):\n    quadrado_ou_retangulo = str(input(\"Deseja calulcar um segundo lado(Sim ou Não): \"))\n    if quadrado_ou_retangulo == \"Sim\":\n        return 2 * ladoR_1 + 2 * LadoR_2\n    elif quadrado_ou_retangulo == \"Não\":\n        return 4 * ladoR_1\n    else:\n        print(\"Opção Inválida, escolha (Sim ou Não)\")\n\n\n#Função de início para informar as opções\ndef inicio():\n    print(\"___ESCOLHA UMA DAS OPÇÕES___\")\n\n    opcoes = [\n    \"1 - Calcular perímetro triângulo\",\n    \"2 - Calcular perímetro círculo\",\n    \"3 - Calcular perímetro retângulo\",\n    \"4 - Sair\"\n    ]\n\n    for opcao in (opcoes):\n        print(opcao)\n    return int(input(\"Opção: \"))\n",
      "metadata": {},
      "outputs": [],
      "execution_count": null
    },
    {
      "id": "36269c71",
      "cell_type": "code",
      "source": "## Escreva aqui o programa principal \n#Início\nopcao = inicio() #Chamando opção e iniciando o programa\n\n#Entrada, Processamento e saida\nif opcao == 1:\n    lado1_T   = float(input(\"Informe o primeiro lado do triângulo: \"))\n    lado2_T   = float(input(\"Informe o segundo lado do triângulo: \"))\n    lado3_T   = float(input(\"Informe o terceiro lado do triângulo: \"))\n    perimetro = calcula_perimetro_triangulo(lado1_T, lado2_T, lado3_T) #Chamando função\n\n    print(f\"O perímetro do triângulo é: {perimetro}\")\n\nelif opcao == 2:\n    raio      = float(input(\"Informe o raio do circulo: \"))\n    perimetro = calcula_perimetro_circulo(raio) #Chamando função\n\n    print(f\"O perímetro do circulo de raio igual à {raio} é: {perimetro}\")\n\nelif opcao == 3:\n    lado1_R   = float(input(\"Informe o primeiro lado do retângulo: \"))\n    lado2_R   = float(input(\"Informe o segundo lado do retângulo: \"))\n    perimetro = calcula_perimetro_retangulo(lado1_R, lado2_R) #Chamando função\n\n    print(f\"O perímetro do retângulo é: {perimetro}\")\n\nelif opcao == 4:\n    \n    print(\"Você escolheu Sair...\")\n\nelse:\n    print(\"Opção inválida\")",
      "metadata": {},
      "outputs": [],
      "execution_count": null
    },
    {
      "id": "3016bcc7",
      "cell_type": "markdown",
      "source": "## Funções ```lambda```",
      "metadata": {}
    },
    {
      "id": "f9cdb8dd",
      "cell_type": "markdown",
      "source": "### Q6.\n\nCrie uma função lambda para verificar se um número é par ou ímpar. Em seguida, solicite ao usuário um número indefinidos de valores (até que o usuário digite 0). Para cada valor de entrada, informe se é par ou ímpar.\n\nExemplo de interação:\n```\nDigite os valores que deseja verificar a paridade (digite 0 para finalizar a entrada de dados):\n3\nímpar\n8\npar\n12\npar\n5\nímpar\n7ímpar\n```",
      "metadata": {}
    },
    {
      "id": "e3c31a78",
      "cell_type": "code",
      "source": "###Questao6 - verificando se é ímpar ou par\n\n#Funçãopara verificar se um número é par ou ímpar\nverifica_par_impar = lambda x: \"Par\" if x % 2 == 0 else \"Ímpar\"\n\n#Entrada e Processamento\nwhile True:\n    numero = int(input(\"Digite um número (digite 0 para sair): \"))\n    \n    if numero == 0:\n        print(\"Programa encerrado\")\n        break\n    \n    resultado = verifica_par_impar(numero)\n    print(f\"O número {numero} é {resultado}.\") #Saída",
      "metadata": {},
      "outputs": [],
      "execution_count": null
    },
    {
      "id": "5a87474d",
      "cell_type": "markdown",
      "source": "### Q7.\n\nEscreva um programa que pergunte ao usuário qual operação ele deseja: maior ou menor.\nEm seguida leia uma quantidade indefinida de valores do usuário, até que o usuário digite o valor zero.\nApresente ao final o maior ou menor dos valores digitados de acordo com a escolha do usuário.\n\n**Sua solução deve incluir pelo menos uma função ```lambda```** \n\nExemplo de interação:\n```\nOpções: (1) maior ou (2) menor?\nOpção: 1\n\nDigite os valores de entrada. Digite 0 para finalizar a entrada de valores.\n4\n12\n15\n1\n0\n\nO maior valor é: 15\n```",
      "metadata": {}
    },
    {
      "id": "ee3f68ca",
      "cell_type": "code",
      "source": "## Escreva aqui o programa principal \n###Questao7 - Menor e Maior valor com lambda\n\n\n#Função lambda\nmenor = lambda x, y: x if x < y else y\nmaior = lambda x, y: x if x > y else y\n\n#Entrada\nmaior_ou_menor = input(\"Você deseja achar o menor ou o maior valor? Digite 'maior' ou 'menor': \")\n\nresultado = float(input(\"Informe um valor (Digite 0 para parar): \"))\n\n#Processamento\nwhile True:\n    n = float(input(\"Informe um valor (Digite 0 para parar): \"))\n    if n == 0:\n        break\n    else:\n        if maior_ou_menor   == \"maior\":\n            resultado = maior(resultado, n)\n        elif maior_ou_menor == \"menor\":\n            resultado = menor(resultado, n)\n\n#Saída\nprint(f\"O {maior_ou_menor} número digitato foi: {resultado}\")",
      "metadata": {},
      "outputs": [],
      "execution_count": null
    }
  ]
}