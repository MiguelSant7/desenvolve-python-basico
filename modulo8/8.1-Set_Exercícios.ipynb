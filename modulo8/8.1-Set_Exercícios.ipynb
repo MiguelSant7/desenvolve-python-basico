{
  "metadata": {
    "kernelspec": {
      "name": "python",
      "display_name": "Python (Pyodide)",
      "language": "python"
    },
    "language_info": {
      "codemirror_mode": {
        "name": "python",
        "version": 3
      },
      "file_extension": ".py",
      "mimetype": "text/x-python",
      "name": "python",
      "nbconvert_exporter": "python",
      "pygments_lexer": "ipython3",
      "version": "3.8"
    }
  },
  "nbformat_minor": 5,
  "nbformat": 4,
  "cells": [
    {
      "id": "0d5035b5",
      "cell_type": "markdown",
      "source": "# Set\n\n## Aula 8.1",
      "metadata": {}
    },
    {
      "id": "0bdece85",
      "cell_type": "markdown",
      "source": "### Q1. \n\nDada uma string qualquer, use seu conhecimento de sets para apresentar os caracteres únicos que aparecem na string, ordenados alfabeticamente e sem duplicatas. Preste atenção em duplicatas de maiúsculas e minúsculas.\n",
      "metadata": {}
    },
    {
      "id": "0a258eba",
      "cell_type": "code",
      "source": "frase = \"O rato roeu a roupa do Robson\"\n\n## Implemente aqui sua solução\n\n# Frase de entrada\nfrase = \"O rato roeu a roupa do Robson\"\n\n# Criar um conjunto para caracteres únicos, ignorando espaços e convertendo para minúsculas\ncaracteres_unicos = set(frase.lower().replace(\" \", \"\"))\n\n# Ordenar os caracteres e transformar em lista\ncaracteres_ordenados = sorted(caracteres_unicos)\n\n# Impressão\nprint(\"Caracteres únicos (ordenados):\", ''.join(caracteres_ordenados))",
      "metadata": {},
      "outputs": [],
      "execution_count": null
    },
    {
      "id": "0856bd56",
      "cell_type": "markdown",
      "source": "### Q2\n\nDesenvolva uma função em Python chamada ```tem_elementos_comuns()``` que recebe duas listas como parâmetros e retorna True se houver algum elemento comum entre as duas listas, e False caso contrário. Utilize sets para resolver essa tarefa.",
      "metadata": {}
    },
    {
      "id": "f7ab6736",
      "cell_type": "code",
      "source": "# Implemente aqui a função tem_elementos_comuns()\n# Função\ndef tem_elementos_comuns(lista1, lista2):\n    # Converte as listas em sets\n    set1 = set(lista1)\n    set2 = set(lista2)\n    \n    # Verifica se há interseção entre os sets\n    return not set1.isdisjoint(set2)",
      "metadata": {},
      "outputs": [],
      "execution_count": null
    },
    {
      "id": "1022744a",
      "cell_type": "code",
      "source": "# Execute esta célula para testar a função da Q2.\n\nlista1 = [1, 2, 3, 4]\nlista2 = [3, 4, 5, 6, 7]\nresultado = tem_elementos_comuns(lista1, lista2)\nprint(resultado)  # Saída esperada: True",
      "metadata": {},
      "outputs": [],
      "execution_count": null
    },
    {
      "id": "649a5082",
      "cell_type": "markdown",
      "source": "### Q3. \n\nVocê vai coletar de diferentes turmas de alunos seus interesses em atividades extra curriculares dentre futebol, vôlei, rugby, música, teatro, ações comunitárias. Informe o conjunto de atividades comuns a todas a turmas. Pode preencher o iterável turmas com valores arbitrários. \n",
      "metadata": {}
    },
    {
      "id": "880a9927",
      "cell_type": "code",
      "source": "turmas = [\n     {'ações comunitárias', 'futebol', 'música', 'rugby'},\n     {'ações comunitárias', 'música', 'rugby', 'teatro'},\n     {'música', 'rugby', 'teatro', 'vôlei'},\n     {'música', 'vôlei', 'rugby'},\n     {'ações comunitárias', 'futebol', 'rugby', 'teatro', 'vôlei'},\n     {'ações comunitárias', 'futebol', 'rugby'},\n     {'ações comunitárias', 'rugby', 'teatro', 'vôlei'},\n     {'ações comunitárias', 'rugby', 'teatro', 'vôlei'},\n     {'ações comunitárias', 'rugby', 'vôlei'}\n]\n\n\n## Implemente aqui sua solução\n\n# Inicializa o conjunto de atividades comuns com o primeiro conjunto\natividades_comuns = turmas[0]\n\n# Faz a interseção com os conjuntos das outras turmas\nfor turma in turmas[1:]:\n    atividades_comuns &= turma\n\n# Impressão\nprint(atividades_comuns)\n",
      "metadata": {},
      "outputs": [],
      "execution_count": null
    },
    {
      "id": "021e2b1e",
      "cell_type": "markdown",
      "source": "### Q4. \nConsidere duas listas que são duplicatas uma da outra, exceto por um elemento, exemplo:\n```\nA = [1, 4, 5, 7, 9]\nB = [4, 5, 7, 9]\n```\n\nEncontre e apresente o elemento diferente, informando também qual das listas está desfalcada. Para o exemplo acima, a saída esperada é\n```\nO elemento 1 está faltando na segunda lista\n```",
      "metadata": {}
    },
    {
      "id": "608761a4",
      "cell_type": "code",
      "source": "## Implemente aqui sua solução\nA = [1, 4, 5, 7, 9]\nB = [4, 5, 7, 9]\n\n# Convertemos as listas em sets\nset_A = set(A)\nset_B = set(B)\n\n# Encontramos a diferença\ndiferenca_A = set_A - set_B\ndiferenca_B = set_B - set_A\n\n# Verificamos qual lista está desfalcada\nif diferenca_A:\n    elemento = diferenca_A.pop()\n    print(f\"O elemento {elemento} está faltando na segunda lista\")\nelif diferenca_B:\n    elemento = diferenca_B.pop()\n    print(f\"O elemento {elemento} está faltando na primeira lista\")",
      "metadata": {},
      "outputs": [],
      "execution_count": null
    },
    {
      "id": "ddf180c1",
      "cell_type": "markdown",
      "source": "### Q5.\n\nPanagramas são frases que contém todas as letras do alfabeto pelo menos uma vez. Crie uma função ```checa_panagrama``` que recebe uma string e retorna ```True``` caso seja um panagrama ou ```False```caso contrário. Use seu conhecimento de sets para solucionar essa questão.\n\nEx: \n```\nEntrada: \"The quick brown fox jumps over the lazy dog\" \nSaída: É um panagrama\n```\n\n```\nEntrada: \"Python é uma linguagem de programação\" \nSaída: Não é um panagrama\n```",
      "metadata": {}
    },
    {
      "id": "4e8b0390",
      "cell_type": "code",
      "source": "## Implemente aqui sua solução\ndef checa_panagrama(frase):\n    # Convertemos a frase para minúsculas e removemos espaços\n    frase = frase.lower().replace(\" \", \"\")\n    \n    # Criamos um conjunto com todas as letras do alfabeto\n    alfabeto = set(\"abcdefghijklmnopqrstuvwxyz\")\n    \n    # Criamos um conjunto com as letras presentes na frase\n    letras_na_frase = set(frase)\n    \n    # Verificamos se todas as letras do alfabeto estão presentes na frase\n    return alfabeto.issubset(letras_na_frase)\n\n# Testes\nentrada1 = \"The quick brown fox jumps over the lazy dog\"\nentrada2 = \"Python é uma linguagem de programação\"\n\nif checa_panagrama(entrada1):\n    print(\"É um panagrama\")\nelse:\n    print(\"Não é um panagrama\")\n\nif checa_panagrama(entrada2):\n    print(\"É um panagrama\")\nelse:\n    print(\"Não é um panagrama\")",
      "metadata": {},
      "outputs": [],
      "execution_count": null
    }
  ]
}