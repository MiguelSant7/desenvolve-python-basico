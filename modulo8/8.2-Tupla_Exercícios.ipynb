{
  "metadata": {
    "kernelspec": {
      "name": "python",
      "display_name": "Python (Pyodide)",
      "language": "python"
    },
    "language_info": {
      "codemirror_mode": {
        "name": "python",
        "version": 3
      },
      "file_extension": ".py",
      "mimetype": "text/x-python",
      "name": "python",
      "nbconvert_exporter": "python",
      "pygments_lexer": "ipython3",
      "version": "3.8"
    }
  },
  "nbformat_minor": 5,
  "nbformat": 4,
  "cells": [
    {
      "id": "0d5035b5",
      "cell_type": "markdown",
      "source": "# Tupla\n\n## Aula 8.2",
      "metadata": {}
    },
    {
      "id": "0bdece85",
      "cell_type": "markdown",
      "source": "### Q1. \n\nEscreva uma função ```calcula_area_perimetro``` que recebe **apenas um parâmetro** ```dimensoes``` e calcula a área e o perímetro a partir das dimensões dadas. \n- ```dimensoes``` é uma tupla (largura, comprimento) com as dimensões de um terreno retangular\n- Sua função deve calcular e retornar as seguintes operações\n   - $area = largura \\times comprimento$\n   - $perimetro = 2\\times(largura + comprimento)$\n",
      "metadata": {}
    },
    {
      "id": "0a258eba",
      "cell_type": "code",
      "source": "# Implemente aqui a função calcula_area_perimetro\ndef calcula_area_perimetro(dimensoes):\n    largura, comprimento = dimensoes\n    area = largura * comprimento\n    perimetro = 2 * (largura + comprimento)\n    return area, perimetro",
      "metadata": {},
      "outputs": [],
      "execution_count": null
    },
    {
      "id": "e1866c04",
      "cell_type": "code",
      "source": "# Complete o exemplo de uso abaixo\nlargura = 5\ncomprimento = 7\n\nretorno = calcula_area_perimetro(dimensoes)\nprint(retorno, type(retorno))",
      "metadata": {},
      "outputs": [],
      "execution_count": null
    },
    {
      "id": "cbdcb986",
      "cell_type": "markdown",
      "source": "### Q2.\n\nDada uma string, imprima todas as vogais que aparecem na string, bem como todos os índices onde elas ocorrem. Para isso, use a função ```enumerate```.\n",
      "metadata": {}
    },
    {
      "id": "1f6b1f2d",
      "cell_type": "code",
      "source": "frase = \"O rato roeu a roupa da Alice\"\n\n# Implemente aqui sua solução\n# Entrada\nstring           = \"O rato roeu a roupa da Alice\"\nvogais_definidas = ['a', 'e', 'i', 'o', 'u'] # Lista de vogais\nstring           = string.lower() # Transformaçao de upper cases para lowcase\n\ncont          = 0 # Contador de vogais\nindice_vogais = []\n\n# Leitura da frase e filtro de vogais\nfor indice, caractere in enumerate(string):\n    if caractere in vogais_definidas:\n        cont += 1\n        indice_vogais.append(indice)\n\n# Impressão\nprint(f\"Vogais: {cont}\")\nprint(f\"índices: {indice_vogais}\")",
      "metadata": {},
      "outputs": [],
      "execution_count": null
    },
    {
      "id": "8d46663f",
      "cell_type": "markdown",
      "source": "### Q3.\n\nEscreva uma função em Python chamada ```ordenar_tuplas``` que recebe uma lista de tuplas, cada uma contendo o nome de um aluno e sua respectiva média, e retorna uma nova lista ordenada em ordem decrescente de médias.",
      "metadata": {}
    },
    {
      "id": "469f2e6e",
      "cell_type": "code",
      "source": "# Implemente aqui a função ordenar_tuplas\ndef ordenar_tuplas(lista_tuplas):\n    # Ordena as tuplas pela média em ordem decrescente\n    return sorted(lista_tuplas, key=lambda x: x[1], reverse=True)",
      "metadata": {},
      "outputs": [],
      "execution_count": null
    },
    {
      "id": "1972c62b",
      "cell_type": "code",
      "source": "# Exemplo de uso:\nalunos_notas = [('Alice', 8.5), ('Bob', 7.2), ('Charlie', 9.0), ('David', 8.8)]\nresultado = ordenar_tuplas(alunos_notas)\nprint(resultado)\n# Saída esperada: [('Charlie', 9.0), ('David', 8.8), ('Alice', 8.5), ('Bob', 7.2)]",
      "metadata": {},
      "outputs": [],
      "execution_count": null
    },
    {
      "id": "e0268fae",
      "cell_type": "markdown",
      "source": "### Q4.\n\nEscreva uma função em Python chamada ```comprimir_tuplas``` que recebe uma lista de tuplas, cada uma contendo uma palavra e um número, e retorna uma nova lista de tuplas onde palavras idênticas são agrupadas e seus números são somados.\n\n",
      "metadata": {}
    },
    {
      "id": "30a221f3",
      "cell_type": "code",
      "source": "# Implemente aqui a função comprimir_tuplas\ndef comprimir_tuplas(lista_tuplas):\n    dicionario = {}\n    \n    for palavra, numero in lista_tuplas:\n        if palavra in dicionario:\n            dicionario[palavra] += numero\n        else:\n            dicionario[palavra] = numero\n    \n    # Converte o dicionário de volta para uma lista de tuplas\n    return list(dicionario.items())",
      "metadata": {},
      "outputs": [],
      "execution_count": null
    },
    {
      "id": "80972bac",
      "cell_type": "code",
      "source": "# Exemplo de uso:\ntuplas_originais = [('maçã', 3), ('banana', 2), ('maçã', 5), ('laranja', 1), ('banana', 3)]\nresultado = comprimir_tuplas(tuplas_originais)\nprint(resultado)\n# Saída esperada: [('maçã', 8), ('banana', 5), ('laranja', 1)]",
      "metadata": {},
      "outputs": [],
      "execution_count": null
    },
    {
      "id": "649a5082",
      "cell_type": "markdown",
      "source": "### Q5. \n\n- Escreva um script que peça o nome e a idade de todos na fila de uma balada. Crie uma lista de tuplas com os pares ```(nome, idade)``` de cada um. \n- Em seguida crie e imprima duas tuplas apenas com os nomes, uma com os menores de idade que não poderão entrar, e uma com os maiores de idade (```idade >= 18```). \n\n",
      "metadata": {}
    },
    {
      "id": "47cb0573",
      "cell_type": "code",
      "source": "## Implemente aqui sua solução\n# Lista para armazenar os pares (nome, idade)\nfila = []\n\n# Solicita a entrada dos dados\nwhile True:\n    nome = input(\"Digite o nome (ou 'sair' para encerrar): \")\n    if nome.lower() == 'sair':\n        break\n    idade = int(input(\"Digite a idade: \"))\n    fila.append((nome, idade))\n\n# Separando os nomes em duas tuplas\nmenores_de_idade = tuple(nome for nome, idade in fila if idade < 18)\nmaiores_de_idade = tuple(nome for nome, idade in fila if idade >= 18)\n\n# Imprimindo os resultados\nprint(\"Menores de idade:\", menores_de_idade)\nprint(\"Maiores de idade:\", maiores_de_idade)\n",
      "metadata": {},
      "outputs": [],
      "execution_count": null
    }
  ]
}