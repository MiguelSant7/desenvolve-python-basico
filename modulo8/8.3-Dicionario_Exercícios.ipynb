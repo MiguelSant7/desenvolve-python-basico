{
  "metadata": {
    "kernelspec": {
      "name": "python",
      "display_name": "Python (Pyodide)",
      "language": "python"
    },
    "language_info": {
      "codemirror_mode": {
        "name": "python",
        "version": 3
      },
      "file_extension": ".py",
      "mimetype": "text/x-python",
      "name": "python",
      "nbconvert_exporter": "python",
      "pygments_lexer": "ipython3",
      "version": "3.8"
    }
  },
  "nbformat_minor": 5,
  "nbformat": 4,
  "cells": [
    {
      "id": "0d5035b5",
      "cell_type": "markdown",
      "source": "# Dicionários\n\n## Aula 8.3",
      "metadata": {}
    },
    {
      "id": "0bdece85",
      "cell_type": "markdown",
      "source": "### Q1. \n\nEscreva uma função em Python chamada ```contagem_caracteres``` que recebe uma string como parâmetro e retorna um dicionário onde as chaves são os caracteres presentes na string e os valores são a contagem de cada caractere.\n",
      "metadata": {}
    },
    {
      "id": "09a9845d",
      "cell_type": "code",
      "source": "# Implemente aqui a função contagem_caracteres\ndef contagem_caracteres(frase):\n    contagem = {}\n    for caractere in frase:\n        if caractere in contagem:\n            contagem[caractere] += 1\n        else:\n            contagem[caractere] = 1\n    return contagem\n",
      "metadata": {},
      "outputs": [],
      "execution_count": null
    },
    {
      "id": "0a258eba",
      "cell_type": "code",
      "source": "# Exemplo de uso:\nfrase = \"python programming\"\nresultado = contagem_caracteres(frase)\nprint(resultado)",
      "metadata": {},
      "outputs": [],
      "execution_count": null
    },
    {
      "id": "649a5082",
      "cell_type": "markdown",
      "source": "### Q2. \n\nBaixe o arquivo contendo o roteiro do filme brasileiro \"Estômago\" e salve em seu computador com o nome \"estomago.txt\".\n\nhttps://aplauso.imprensaoficial.com.br/edicoes/12.0.813.502/12.0.813.502.txt\n\n- Escreva um script python que abre o arquivo de texto e cria um dicionário contando a quantidade de vezes que cada palavra aparece no texto.\n- Em seguida ordene o dicionário de forma decrescente pelos valores. Dessa maneira ele irá apresentar as palavras mais frequentes no início.\n- Apresente na tela o dicionário ordenado\n",
      "metadata": {}
    },
    {
      "id": "47cb0573",
      "cell_type": "code",
      "source": "# Implemente aqui sua solução\nfrom collections import Counter\nimport string\n\n# Lê o conteúdo do arquivo\nwith open(\"estomago.txt\", \"r\", encoding='utf-8') as arquivo:\n    texto = arquivo.read()\n\n# Remove pontuação e transforma o texto em minúsculas\ntexto = texto.translate(str.maketrans('', '', string.punctuation)).lower()\n\n# Divide o texto em palavras\npalavras = texto.split()\n\n# Conta a frequência de cada palavra\ncontagem_palavras = Counter(palavras)\n\n# Ordena o dicionário por frequência (valores) em ordem decrescente\ncontagem_ordenada = dict(sorted(contagem_palavras.items(), key=lambda item: item[1], reverse=True))\n\n# Exibe o dicionário ordenado\nprint(contagem_ordenada)",
      "metadata": {},
      "outputs": [],
      "execution_count": null
    },
    {
      "id": "bb62d219",
      "cell_type": "markdown",
      "source": "### Q3. \n\nCrie uma função chamada ```mesclar_dicionarios``` que recebe dois dicionários como parâmetros e retorna um novo dicionário contendo a fusão dos dois. Se houver chaves comuns, o maior valor deve prevalecer.",
      "metadata": {}
    },
    {
      "id": "f4363612",
      "cell_type": "code",
      "source": "# Implemente aqui a função mesclar_dicionarios\n## Q3\n\ndef mesclar_dicionarios(dicionario1, dicionario2):\n    # Cria um novo dicionário a partir do primeiro\n    dicionario_fuso = dicionario1.copy()\n\n    # Itera sobre o segundo dicionário\n    for chave, valor in dicionario2.items():\n        # Se a chave já existe, usa o maior valor\n        if chave in dicionario_fuso:\n            dicionario_fuso[chave] = max(dicionario_fuso[chave], valor)\n        else:\n            dicionario_fuso[chave] = valor\n            \n    return dicionario_fuso",
      "metadata": {},
      "outputs": [],
      "execution_count": null
    },
    {
      "id": "add41556",
      "cell_type": "code",
      "source": "# Exemplo de uso:\ndicionario1 = {'a': 1, 'b': 2, 'c': 3}\ndicionario2 = {'b': 4, 'd': 5}\nresultado = mesclar_dicionarios(dicionario1, dicionario2)\nprint(resultado)\n# Saída esperada: {'a': 1, 'b': 4, 'c': 3, 'd': 5}",
      "metadata": {},
      "outputs": [],
      "execution_count": null
    },
    {
      "id": "8710b1a7",
      "cell_type": "markdown",
      "source": "### Q4.\n\nDesenvolva uma função em Python chamada ```filtrar_dicionario``` que recebe um dicionário e uma lista de chaves como parâmetros e retorna um novo dicionário contendo apenas as chaves que estão presentes na lista.",
      "metadata": {}
    },
    {
      "id": "0b7ee921",
      "cell_type": "code",
      "source": "# Implemente aqui a função filtrar_dicionario\ndef filtrar_dicionario(dicionario, chaves):\n    # Cria um novo dicionário filtrado\n    dicionario_filtrado = {chave: dicionario[chave] for chave in chaves if chave in dicionario}\n    return dicionario_filtrado",
      "metadata": {},
      "outputs": [],
      "execution_count": null
    },
    {
      "id": "ebc131f6",
      "cell_type": "code",
      "source": "# Exemplo de uso:\ndados = {'a': 1, 'b': 2, 'c': 3, 'd': 4, 'e': 5}\nchaves_filtradas = ['a', 'c', 'e']\nresultado = filtrar_dicionario(dados, chaves_filtradas)\nprint(resultado)\n# Saída esperada: {'a': 1, 'c': 3, 'e': 5}",
      "metadata": {},
      "outputs": [],
      "execution_count": null
    },
    {
      "id": "3203c51e",
      "cell_type": "markdown",
      "source": "### Q5.\n\nVocê está responsável por analisar os resultados de uma votação. Cada voto é representado por um dicionário com o nome do candidato e a quantidade de votos que recebeu em uma determinada sessão eleitoral. Escreva uma função chamada ```resultado_votacao``` que recebe uma lista de dicionários de votos e retorna um dicionário onde as chaves são os nomes dos candidatos, e os valores são tuplas ```(total, percentual)``` com o total de votos recebidos por cada candidato e o percentual em relação à soma total de votos em todos os candidatos. ",
      "metadata": {}
    },
    {
      "id": "2c856eee",
      "cell_type": "code",
      "source": "# Implemente aqui a função resultado_votacao\ndef resultado_votacao(votacoes):\n    # Dicionário para armazenar o total de votos por candidato\n    totais = {}\n\n    # Soma os votos de cada candidato\n    for sessao in votacoes:\n        for candidato, votos in sessao.items():\n            if candidato in totais:\n                totais[candidato] += votos\n            else:\n                totais[candidato] = votos\n\n    # Calcula o total geral de votos\n    total_geral = sum(totais.values())\n\n    # Cria o dicionário de resultados com percentual\n    resultados = {}\n    for candidato, total in totais.items():\n        percentual = (total / total_geral) * 100\n        resultados[candidato] = (total, round(percentual, 2))\n\n    return resultados",
      "metadata": {},
      "outputs": [],
      "execution_count": null
    },
    {
      "id": "ff2044de",
      "cell_type": "code",
      "source": "# Exemplo de uso:\nvotos = [\n    {'candidato_A': 120, 'candidato_B': 85, 'candidato_C': 90},\n    {'candidato_A': 110, 'candidato_B': 95, 'candidato_C': 80},\n    {'candidato_A': 130, 'candidato_B': 78, 'candidato_C': 105},\n]\nresultado = resultado_votacao(votos)\nprint(resultado)  # Saída esperada: {'candidato_A': (360, 40.31), 'candidato_B': (258, 28.89), \n                                ###  'candidato_C': (275, 30.79)}",
      "metadata": {},
      "outputs": [],
      "execution_count": null
    }
  ]
}